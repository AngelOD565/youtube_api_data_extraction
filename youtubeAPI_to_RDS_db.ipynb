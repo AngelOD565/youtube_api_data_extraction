{
  "nbformat": 4,
  "nbformat_minor": 0,
  "metadata": {
    "colab": {
      "name": "youtubeAPI_to_RDS_db.ipynb",
      "provenance": [],
      "authorship_tag": "ABX9TyM/H8TCDfAjjxOq2MSu/+pT",
      "include_colab_link": true
    },
    "kernelspec": {
      "name": "python3",
      "display_name": "Python 3"
    },
    "language_info": {
      "name": "python"
    }
  },
  "cells": [
    {
      "cell_type": "markdown",
      "metadata": {
        "id": "view-in-github",
        "colab_type": "text"
      },
      "source": [
        "<a href=\"https://colab.research.google.com/github/AngelOD565/youtube_api_data_extraction/blob/main/youtubeAPI_to_RDS_db.ipynb\" target=\"_parent\"><img src=\"https://colab.research.google.com/assets/colab-badge.svg\" alt=\"Open In Colab\"/></a>"
      ]
    },
    {
      "cell_type": "markdown",
      "source": [
        "# **API Call to Youtube for Data Extraction**"
      ],
      "metadata": {
        "id": "7qkwEF8gtDcg"
      }
    },
    {
      "cell_type": "code",
      "execution_count": null,
      "metadata": {
        "id": "Vx1bK3QNBluw"
      },
      "outputs": [],
      "source": [
        "#import libraries\n",
        "import requests\n",
        "import pandas as pd\n",
        "import time"
      ]
    },
    {
      "cell_type": "code",
      "source": [
        "#Keys\n",
        "API_Key = \"x\"\n",
        "Channel_ID = \"UCqffvr3tqWOR5Oyq16t5-kQ\""
      ],
      "metadata": {
        "id": "uWx5PYn1ByUC"
      },
      "execution_count": null,
      "outputs": []
    },
    {
      "cell_type": "code",
      "source": [
        "#make API call\n",
        "pageToken = \"\"\n",
        "url = \"https://www.googleapis.com/youtube/v3/search?key=\"+API_Key+\"&channelId=\"+Channel_ID+\"&part=snippet,id&order=date&maxResults=10000\"+pageToken\n",
        "\n",
        "response = requests.get(url).json()"
      ],
      "metadata": {
        "id": "lyO3HKoBQXZ4"
      },
      "execution_count": null,
      "outputs": []
    },
    {
      "cell_type": "code",
      "source": [
        "#create function to get and return video statistics\n",
        "def get_video_details(video_id):    \n",
        "\n",
        "    #API call collecting view, like, and comment counts\n",
        "    url_video_stats = 'https://www.googleapis.com/youtube/v3/videos?id='+video_id+\"&part=statistics&key=\"+API_Key\n",
        "    response_video_stats = requests.get(url_video_stats).json()\n",
        "\n",
        "    view_count = response_video_stats['items'][0]['statistics']['viewCount']\n",
        "    like_count = response_video_stats['items'][0]['statistics']['likeCount']\n",
        "    comment_count= response_video_stats['items'][0]['statistics']['commentCount']\n",
        "\n",
        "    return view_count, like_count, comment_count"
      ],
      "metadata": {
        "id": "z4ArFb3_8PtX"
      },
      "execution_count": null,
      "outputs": []
    },
    {
      "cell_type": "code",
      "source": [
        "#create function to get video details and append them into our dataframe\n",
        "def get_videos(df):\n",
        "    pageToken = \"\"\n",
        "    while 1:\n",
        "        url = \"https://www.googleapis.com/youtube/v3/search?key=\"+API_Key+\"&channelId=\"+Channel_ID+\"&part=snippet,id&order=date&maxResults=10000&\"+pageToken\n",
        "\n",
        "        response = requests.get(url).json()\n",
        "        time.sleep(1) #give it a second before starting the for loop\n",
        "        for video in response['items']:\n",
        "            if video['id']['kind'] == \"youtube#video\":\n",
        "                video_id = video['id']['videoId']\n",
        "                video_title = video['snippet']['title']\n",
        "                video_title = str(video_title).replace(\"&amp;\",\"\")\n",
        "                upload_date = video['snippet']['publishedAt']\n",
        "                upload_date = str(upload_date).split(\"T\")[0]\n",
        "                view_count, like_count, comment_count = get_video_details(video_id)\n",
        "\n",
        "                df = df.append({'video_id':video_id,'video_title':video_title,\n",
        "                                \"upload_date\":upload_date,\"view_count\":view_count,\n",
        "                                \"like_count\":like_count,\n",
        "                                \"comment_count\":comment_count},ignore_index=True)\n",
        "        try:\n",
        "            if response['nextPageToken'] != None: #if none, it means it reached the last page and break out of it\n",
        "                pageToken = \"pageToken=\" + response['nextPageToken']\n",
        "\n",
        "        except:\n",
        "            break\n",
        "\n",
        "\n",
        "    return df\n",
        "  "
      ],
      "metadata": {
        "id": "EpYAQPsRUcQN"
      },
      "execution_count": null,
      "outputs": []
    },
    {
      "cell_type": "code",
      "source": [
        "#main\n",
        "\n",
        "#build our dataframe\n",
        "df = pd.DataFrame(columns=['video_id','video_title','upload_date','view_count','like_count','comment_count'])\n",
        "\n",
        "df = get_videos(df)"
      ],
      "metadata": {
        "id": "5nlVVrowk8mi"
      },
      "execution_count": null,
      "outputs": []
    },
    {
      "cell_type": "code",
      "source": [
        "df2"
      ],
      "metadata": {
        "id": "Lrp6rOx89vXN"
      },
      "execution_count": null,
      "outputs": []
    },
    {
      "cell_type": "code",
      "source": [
        "#create second dataframe removing duplicates from API call\n",
        "df2 = df.drop_duplicates(keep='first')"
      ],
      "metadata": {
        "id": "lk6jCWo45j-V"
      },
      "execution_count": null,
      "outputs": []
    },
    {
      "cell_type": "markdown",
      "source": [
        "# **Uploading dataframe to AWS RDS Database Instance**"
      ],
      "metadata": {
        "id": "mxtAb9ENssym"
      }
    },
    {
      "cell_type": "code",
      "source": [
        "#install package and import library\n",
        "!pip install psycopg2\n",
        "import psycopg2 as ps"
      ],
      "metadata": {
        "id": "jtCOHwFvtSsh"
      },
      "execution_count": null,
      "outputs": []
    },
    {
      "cell_type": "code",
      "source": [
        "#define function to connect to our database\n",
        "def connect_to_db(host_name, dbname, port, username, password):\n",
        "  try:\n",
        "    conn = ps.connect(host=host_name, database=dbname, user=username, password=password, port=port)\n",
        "\n",
        "  except ps.OperationalError as e:\n",
        "    raise e\n",
        "  else:\n",
        "    print('Connected!')\n",
        "  return conn\n"
      ],
      "metadata": {
        "id": "WN2ar3G3ubT3"
      },
      "execution_count": null,
      "outputs": []
    },
    {
      "cell_type": "code",
      "source": [
        "#create table\n",
        "def create_table(curr):\n",
        "  create_table_command = (\"\"\"CREATE TABLE IF NOT EXISTS videos (\n",
        "    video_id VARCHAR(255) PRIMARY KEY,\n",
        "    Video_title TEXT NOT NULL,\n",
        "    upload_date DATE  NOT NULL DEFAULT CURRENT_DATE,\n",
        "    view_count INTEGER NOT NULL,\n",
        "    like_count INTEGER NOT NULL,\n",
        "    comment_count INTEGER NOT NULL\n",
        "  )\"\"\")\n",
        "  curr.execute(create_table_command)"
      ],
      "metadata": {
        "id": "AWGKfX318cAj"
      },
      "execution_count": null,
      "outputs": []
    },
    {
      "cell_type": "code",
      "source": [
        "#insert command\n",
        "\n",
        "def insert_into_table(curr, video_id, video_title, upload_date, view_count, like_count, comment_count):\n",
        "      insert_into_videos = (\"\"\"INSERT INTO videos (video_id, video_title, upload_date,\n",
        "                          view_count, like_count, comment_count)\n",
        "      VALUES(%s,%s,%s,%s,%s,%s);\"\"\")\n",
        "      row_to_insert = (video_id, video_title, upload_date, view_count, like_count, comment_count)\n",
        "      curr.execute(insert_into_videos, row_to_insert)"
      ],
      "metadata": {
        "id": "rW8zxmKyIu54"
      },
      "execution_count": null,
      "outputs": []
    },
    {
      "cell_type": "code",
      "source": [
        "#update row if video exists\n",
        "def update_row(curr, video_id, video_title, view_count, like_count, comment_count):\n",
        "  query = (\"\"\"UPDATE videos\n",
        "              SET video_title = %s,\n",
        "                  view_count = %s,\n",
        "                  like_count = %s,\n",
        "                  comment_count = %s\n",
        "              WHERE video_id = %s;\"\"\")\n",
        "\n",
        "  vars_to_update = (video_title, view_count, like_count, comment_count, video_id)\n",
        "  curr.execute(query, vars_to_update)\n"
      ],
      "metadata": {
        "id": "qPakJ74WC2zz"
      },
      "execution_count": null,
      "outputs": []
    },
    {
      "cell_type": "code",
      "source": [
        "#check if video exists\n",
        "def check_if_video_exists(curr, video_id):\n",
        "  query = (\"\"\"SELECT video_id FROM VIDEOS WHERE video_id = %s\"\"\")\n",
        "  curr.execute(query, (video_id,))\n",
        "\n",
        "  return curr.fetchone() is not None\n"
      ],
      "metadata": {
        "id": "rBtUFxdzBnBL"
      },
      "execution_count": null,
      "outputs": []
    },
    {
      "cell_type": "code",
      "source": [
        "def append_from_df2_to_db(curr,df2):\n",
        "    for i, row in df2.iterrows():\n",
        "        insert_into_table(curr, row['video_id'], row['video_title'], row['upload_date'], row['view_count'], row['like_count'], row['comment_count'])"
      ],
      "metadata": {
        "id": "c3sueKlQIwVS"
      },
      "execution_count": null,
      "outputs": []
    },
    {
      "cell_type": "code",
      "source": [
        "#update database\n",
        "#handling data for scalability\n",
        "\n",
        "#check to see if video already exists\n",
        "\n",
        "def update_db(curr,df2):\n",
        "    tmp_df2 = pd.DataFrame(columns=['video_id','video_title','upload_date','view_count','like_count','comment_count']) #create temp df2 as list of new items to append to database later\n",
        "\n",
        "    for i, row in df2.iterrows():\n",
        "      if check_if_video_exists(curr, row['video_id']): #if video already exists, then update features\n",
        "        update_row(curr, row['video_id'], row['video_title'], row['view_count'], row['like_count'], row['comment_count'])\n",
        "      else: #if video doesn't exist, we append it to the db\n",
        "        tmp_df2 = tmp_df2.append(row)\n",
        "    return tmp_df2\n"
      ],
      "metadata": {
        "id": "_lQ13yw9AuAm"
      },
      "execution_count": null,
      "outputs": []
    },
    {
      "cell_type": "code",
      "source": [
        "#Main\n",
        "\n",
        "#configure parameters to our specific database then connect\n",
        "host_name = 'database-yt.cgw9v1phodos.us-east-1.rds.amazonaws.com'\n",
        "dbname = ''\n",
        "port = '5432'\n",
        "username = 'postgres'\n",
        "password = 'postgres'\n",
        "\n",
        "#establish connection\n",
        "conn = connect_to_db(host_name, dbname, port, username, password)\n",
        "curr = conn.cursor()"
      ],
      "metadata": {
        "id": "veIKPefGwZw7"
      },
      "execution_count": null,
      "outputs": []
    },
    {
      "cell_type": "code",
      "source": [
        "#create table\n",
        "create_table(curr)"
      ],
      "metadata": {
        "id": "zKB_5MA--FH3"
      },
      "execution_count": null,
      "outputs": []
    },
    {
      "cell_type": "code",
      "source": [
        "new_vids_df2 = update_db(curr, df2)"
      ],
      "metadata": {
        "id": "DRTKfZpLF8sm"
      },
      "execution_count": null,
      "outputs": []
    },
    {
      "cell_type": "code",
      "source": [
        "append_from_df2_to_db(curr, new_vids_df2)"
      ],
      "metadata": {
        "id": "lrpN2aIgK4aK"
      },
      "execution_count": null,
      "outputs": []
    },
    {
      "cell_type": "code",
      "source": [
        "conn.commit()"
      ],
      "metadata": {
        "id": "Vajq1csZ-K8d"
      },
      "execution_count": null,
      "outputs": []
    }
  ]
}